{
 "cells": [
  {
   "cell_type": "markdown",
   "id": "b19b8f36",
   "metadata": {},
   "source": [
    "# Coursework: Curves and Surfaces in Visual Computing\n",
    "\n",
    "### Visual Computing\n",
    "\n",
    "This notebook contains exercises related to **curves** and **surfaces** in visual computing. The exercises will guide you through implementing various curve representations, Bézier curves, Hermite curves, surface extraction, and subdivision surfaces.\n",
    "\n",
    "## Grading Scheme (100 points total):\n",
    "\n",
    "- **Curves Part (50 points):**\n",
    "    - **Curve Representations**: 10 points\n",
    "    - **Cubic and Quartic Bézier Curves**: 20 points\n",
    "    - **Hermite Curves**: 20 points\n",
    "- **Surfaces Part (50 points):**\n",
    "    - **Surface Extraction**: 10 points\n",
    "    - **Marching Cubes Algorithm**: 20 points\n",
    "    - **Subdivision Surfaces (Catmull-Clark)**: 20 points"
   ]
  },
  {
   "cell_type": "markdown",
   "id": "420dbd98",
   "metadata": {},
   "source": [
    "### 1. Curve Representations (10 points)\n",
    "In this task, you will explore two curve representations: parametric, and implicit. Each representation has different use cases.\n",
    "\n",
    "**Task:**\n",
    "- Implement code to showcase the differences between the curve representations (parametric, implicit).\n",
    "- Create use cases for each representation and provide visualization.\n"
   ]
  },
  {
   "cell_type": "code",
   "execution_count": null,
   "id": "55689665",
   "metadata": {},
   "outputs": [],
   "source": [
    "# Code for Curve Representations\n",
    "import numpy as np\n",
    "import matplotlib.pyplot as plt\n",
    "\n",
    "# Define Parametric Curve (e.g., a circle)\n",
    "t = np.linspace(0, 2*np.pi, 100)\n",
    "#  Fill in the parametric equations here (x = ..., y = ...)\n",
    "\n",
    "# Plot Parametric Curve\n",
    "\n",
    "# Define Implicit Curve (e.g., circle equation x^2 + y^2 = r^2)\n",
    "x_implicit = np.linspace(-1, 1, 400)\n",
    "y_implicit = np.linspace(-1, 1, 400)\n",
    "X, Y = np.meshgrid(x_implicit, y_implicit)\n",
    "# Placeholder: Fill in the implicit equation here (Z = ...)\n",
    "\n",
    "# Plot Implicit Curve\n"
   ]
  },
  {
   "cell_type": "markdown",
   "id": "a6d31eca",
   "metadata": {},
   "source": [
    "### 2. Cubic and Quartic Bézier Curves (20 points)\n",
    "Bézier curves are widely used in computer graphics for modeling smooth curves.\n",
    "\n",
    "**Task:**\n",
    "- Implement both cubic and quartic Bézier curves."
   ]
  },
  {
   "cell_type": "code",
   "execution_count": null,
   "id": "b600b13c",
   "metadata": {},
   "outputs": [],
   "source": [
    "# Code for Bézier Curves\n",
    "from scipy.special import comb\n",
    "\n",
    "# Implement the function for Bézier curve calculation\n",
    "def bezier_curve(points, num_points=100):\n",
    "   \n",
    "    \n",
    "    return curve\n",
    "\n",
    "# Example control points\n",
    "control_points = np.array([[0, 0], [1, 2], [2, -1], [3, 3]])\n",
    "curve = bezier_curve(control_points)\n",
    "\n",
    "# Plot Bézier curve and control points\n"
   ]
  },
  {
   "cell_type": "markdown",
   "id": "14386b70",
   "metadata": {},
   "source": [
    "### 3. Hermite Curves (20 points)\n",
    "Hermite curves are defined by endpoints and tangents at those endpoints.\n",
    "\n",
    "**Task:**\n",
    "- Implement Hermite curves and demonstrate their flexibility by adjusting tangents.\n"
   ]
  },
  {
   "cell_type": "code",
   "execution_count": null,
   "id": "97a5209c",
   "metadata": {},
   "outputs": [],
   "source": [
    "# Code for Hermite Curves\n",
    "def hermite_curve(P0, P1, T0, T1, num_points=100):\n",
    "    t = np.linspace(0, 1, num_points)\n",
    "    # Hermite basis functions (h00, h10, h01, h11)\n",
    " \n",
    "    # Fill in Hermite curve using P0, P1, T0, T1\n",
    "   \n",
    "    \n",
    "    return curve\n",
    "\n",
    "# Example Hermite curve\n",
    "P0 = np.array([0, 0])\n",
    "P1 = np.array([1, 1])\n",
    "T0 = np.array([1, 0])\n",
    "T1 = np.array([1, 1])\n",
    "\n",
    "curve = hermite_curve(P0, P1, T0, T1)\n",
    "\n",
    "# Plot Hermite curve\n"
   ]
  },
  {
   "cell_type": "markdown",
   "id": "4d6395ae",
   "metadata": {},
   "source": [
    "### 4. Surface Extraction (10 points)\n",
    "Surface extraction involves evaluating a surface function and determining if points lie on the surface.\n",
    "\n",
    "**Task:**\n",
    "- Implement a simple function to extract surfaces from a scalar field (such as a sphere).\n"
   ]
  },
  {
   "cell_type": "code",
   "execution_count": null,
   "id": "5fc60b68",
   "metadata": {},
   "outputs": [],
   "source": [
    "# Code for Surface Extraction\n",
    "def scalar_field_surface(x, y, z, r=1):\n",
    "    # Define surface function (e.g., sphere x^2 + y^2 + z^2 = r^2)\n",
    "    return \n",
    "\n",
    "# Grid evaluation for scalar field\n",
    "\n",
    "\n",
    "# Extract surface by plotting points where scalar field = 0\n"
   ]
  },
  {
   "cell_type": "markdown",
   "id": "7621d5bd",
   "metadata": {},
   "source": [
    "### 5. Marching Cubes Algorithm (20 points)\n",
    "The Marching Cubes algorithm is a popular technique for extracting surfaces from 3D volume data.\n",
    "\n",
    "**Task:**\n",
    "- Implement the Marching Cubes algorithm or use a library like `scikit-image` to demonstrate it with a 3D scalar field.\n",
    "- **Students must fill in the scalar field and use Marching Cubes to extract the surface.**"
   ]
  },
  {
   "cell_type": "code",
   "execution_count": null,
   "id": "8939965e",
   "metadata": {},
   "outputs": [],
   "source": [
    "# Code for Marching Cubes Algorithm\n",
    "from skimage import measure\n",
    "\n",
    "# Volume data generation (e.g., sphere or another shape)\n",
    "def volume_data_surface(resolution=50, r=1):\n",
    "   \n",
    "    return volume\n",
    "\n",
    "volume = volume_data_surface()\n",
    "# Implement marching cubes\n",
    "# Plot extracted surface\n"
   ]
  },
  {
   "cell_type": "markdown",
   "id": "9ac9c5d2",
   "metadata": {},
   "source": [
    "### 6. Subdivision Surfaces (Pixar-style) (5 points + bonus 15 points)\n",
    "\n",
    "Subdivision surfaces are widely used in computer graphics to smooth out meshes by iterative subdivision. This process is heavily utilized in the creation of complex animated characters and detailed objects, like those seen in Pixar movies.\n",
    "\n",
    "**Task:**\n",
    "- Implement a basic subdivision surface algorithm (e.g., Catmull-Clark) to smooth a 3D mesh.\n",
    "- Demonstrate how subdivision surfaces are used in the creation of complex animated characters (like Pixar movies)."
   ]
  },
  {
   "cell_type": "code",
   "execution_count": null,
   "id": "9cd33520",
   "metadata": {},
   "outputs": [],
   "source": [
    "\"\"\" Catmull-Clark Algorithm by using a prebuilt library\"\"\"\n",
    "import numpy as np\n",
    "import trimesh\n",
    "\n",
    "# Use trimesh library to apply subdivisions\n",
    "\n",
    "\n",
    "# Subdivide the mesh for smoothing (this can be repeated for more iterations)\n",
    "\n",
    "\n",
    "# Plot the smoothed mesh\n",
    "\n"
   ]
  },
  {
   "cell_type": "markdown",
   "id": "3dcd9f04",
   "metadata": {},
   "source": [
    "#### Bonus (15 points)\n",
    "\n",
    "**Task:**\n",
    "- Implement Catmull-Clark from scratch.\n",
    "\n",
    "Dive into how Catmull-Clark subdivision surfaces work and implement the Catmull-Clark algorithm without relying on external libraries like `trimesh`. This algorithm is widely used to smooth out a mesh by iteratively refining the geometry. It generates smoother surfaces by splitting faces, edges, and adding new vertices based on weighted averages of neighboring vertices.\n",
    "\n",
    "### Steps of the Catmull-Clark Algorithm:\n",
    "\n",
    "1. **Face Points:**\n",
    "   - For each face in the mesh, compute the centroid (average of all vertices of the face) and store it as a face point.\n",
    "\n",
    "2. **Edge Points:**\n",
    "   - For each edge, compute the average of the midpoints of the edge and the centroids of the two faces adjacent to the edge. This becomes the edge point.\n",
    "\n",
    "3. **Updated Original Vertex Positions:**\n",
    "   - For each vertex, update its position as a weighted average of the original vertex, the adjacent face points, and the edge midpoints.\n",
    "\n",
    "4. **Splitting Faces:**\n",
    "   - Split each face into smaller faces using the new face points, edge points, and original vertices.\n",
    "\n",
    "The goal is to generate smoother surfaces after each subdivision iteration, allowing the mesh to be refined and smoothed. This technique is fundamental in character modeling and animation in industries like movie production, including Pixar-style animations.\n"
   ]
  },
  {
   "cell_type": "code",
   "execution_count": null,
   "id": "a04ddfc9",
   "metadata": {},
   "outputs": [],
   "source": [
    "import numpy as np\n",
    "import matplotlib.pyplot as plt\n",
    "\n",
    "class CatmullClark:\n",
    "    def __init__(self, vertices, faces):\n",
    "        self.vertices = np.array(vertices)\n",
    "        self.faces = np.array(faces)\n",
    "\n",
    "    def subdivide(self):\n",
    "        new_vertices = list(self.vertices)\n",
    "        face_points = []\n",
    "        edge_points = {}\n",
    "\n",
    "        # Step 1: Compute face points (centroids)\n",
    "        \n",
    "        # Step 2: Compute edge points (average of edge midpoints + face points of adjacent faces)\n",
    "        \n",
    "                   \n",
    "\n",
    "        # Step 3: Update original vertex positions\n",
    "       \n",
    "            # Compute F (average of face points of adjacent faces)\n",
    "            \n",
    "            # Compute R (average of edge points of connected edges)\n",
    "           \n",
    "            # Updated vertex position\n",
    "            \n",
    "\n",
    "        # Step 4: Split faces into smaller faces\n",
    "        \n",
    "\n",
    "    def plot(self):\n",
    "        \"\"\"Plot the 3D mesh.\"\"\"\n",
    "        \n",
    "        plt.show()\n",
    "\n",
    "# Example: Initial cube mesh for Catmull-Clark subdivision\n",
    "vertices = [[-1, -1, -1], [1, -1, -1], [1, 1, -1], [-1, 1, -1],\n",
    "            [-1, -1, 1], [1, -1, 1], [1, 1, 1], [-1, 1, 1]]\n",
    "\n",
    "faces = [[0, 1, 2, 3], [4, 5, 6, 7], [0, 1, 5, 4], [2, 3, 7, 6], [0, 3, 7, 4], [1, 2, 6, 5]]\n",
    "\n",
    "mesh = CatmullClark(vertices, faces)\n",
    "\n",
    "# Plot original mesh\n",
    "print(\"Original Mesh\")\n",
    "mesh.plot()\n",
    "\n",
    "# Perform Catmull-Clark subdivision\n",
    "mesh.subdivide()\n",
    "\n",
    "# Plot subdivided mesh\n",
    "print(\"Subdivided Mesh\")\n",
    "mesh.plot()\n"
   ]
  }
 ],
 "metadata": {
  "language_info": {
   "name": "python"
  }
 },
 "nbformat": 4,
 "nbformat_minor": 5
}
